{
 "cells": [
  {
   "cell_type": "markdown",
   "id": "a0318d62",
   "metadata": {},
   "source": [
    "### function\n"
   ]
  },
  {
   "cell_type": "code",
   "execution_count": null,
   "id": "a9e73374",
   "metadata": {},
   "outputs": [],
   "source": [
    "# function\n"
   ]
  },
  {
   "cell_type": "code",
   "execution_count": null,
   "id": "32591c86",
   "metadata": {},
   "outputs": [],
   "source": [
    "def function_name():\n",
    "    pass\n",
    "\n",
    "# function_name>>>>>>>>..function name\n",
    "# def is keyword\n",
    "# pass>>> placeholder\n"
   ]
  },
  {
   "cell_type": "code",
   "execution_count": null,
   "id": "6278aca4",
   "metadata": {},
   "outputs": [],
   "source": [
    "def function_name():\n",
    "    pass\n",
    "\n",
    "# function_name>>>>>>>>..function name\n",
    "# def is keyword\n",
    "# pass>>> placeholder\n"
   ]
  },
  {
   "cell_type": "code",
   "execution_count": 2,
   "id": "7082b571",
   "metadata": {},
   "outputs": [],
   "source": [
    "def function_name():\n",
    "    pass\n",
    "\n",
    "# function_name>>>>>>>>..function name\n",
    "# def is keyword\n",
    "# pass>>> placeholder\n"
   ]
  },
  {
   "cell_type": "code",
   "execution_count": 3,
   "id": "89952867",
   "metadata": {},
   "outputs": [],
   "source": [
    "# def function_name\n",
    "\n",
    "##"
   ]
  },
  {
   "cell_type": "code",
   "execution_count": 5,
   "id": "ab9b1b43",
   "metadata": {},
   "outputs": [
    {
     "name": "stdout",
     "output_type": "stream",
     "text": [
      "30\n"
     ]
    }
   ],
   "source": [
    "def add():\n",
    "    a =10\n",
    "    b = 20\n",
    "    print(a+b)\n",
    "add()"
   ]
  },
  {
   "cell_type": "code",
   "execution_count": 6,
   "id": "22791277",
   "metadata": {},
   "outputs": [
    {
     "name": "stdout",
     "output_type": "stream",
     "text": [
      "30\n"
     ]
    }
   ],
   "source": [
    "add()"
   ]
  },
  {
   "cell_type": "code",
   "execution_count": 7,
   "id": "536dafde",
   "metadata": {},
   "outputs": [
    {
     "name": "stdout",
     "output_type": "stream",
     "text": [
      "30\n"
     ]
    }
   ],
   "source": [
    "def add(a,b):\n",
    "    print(a+b)\n",
    "add(a = 10, b = 20)"
   ]
  },
  {
   "cell_type": "code",
   "execution_count": 10,
   "id": "f749ece0",
   "metadata": {},
   "outputs": [
    {
     "name": "stdout",
     "output_type": "stream",
     "text": [
      "30\n"
     ]
    }
   ],
   "source": [
    "def add(a,b):\n",
    "    print(a+b)\n",
    "add(10, 20)"
   ]
  },
  {
   "cell_type": "code",
   "execution_count": 18,
   "id": "4bfdd13f",
   "metadata": {},
   "outputs": [],
   "source": [
    "def display(name , age , address= \"jaipur\"):\n",
    "    print(f\"my name is {name} and my{age} and i am from {address}\")\n",
    "\n"
   ]
  },
  {
   "cell_type": "code",
   "execution_count": 19,
   "id": "b53d095f",
   "metadata": {},
   "outputs": [
    {
     "name": "stdout",
     "output_type": "stream",
     "text": [
      "my name is ritik and my22 and i am from jaipur\n"
     ]
    }
   ],
   "source": [
    "display(\"ritik\" , 22)"
   ]
  },
  {
   "cell_type": "code",
   "execution_count": 20,
   "id": "fdfb7b23",
   "metadata": {},
   "outputs": [
    {
     "name": "stdout",
     "output_type": "stream",
     "text": [
      "my name is ritik and my22 and i am from kumbha marg\n"
     ]
    }
   ],
   "source": [
    "display(\"ritik\", 22,\"kumbha marg\")"
   ]
  },
  {
   "cell_type": "code",
   "execution_count": null,
   "id": "ba413df1",
   "metadata": {},
   "outputs": [],
   "source": [
    "# lambda function\n",
    "# lambda >>>>> keyword\n",
    "# lambda is an"
   ]
  },
  {
   "cell_type": "code",
   "execution_count": 22,
   "id": "6c82cad7",
   "metadata": {},
   "outputs": [
    {
     "data": {
      "text/plain": [
       "30"
      ]
     },
     "execution_count": 22,
     "metadata": {},
     "output_type": "execute_result"
    }
   ],
   "source": [
    "add = lambda a , b :a+b\n",
    "add (10,20)"
   ]
  },
  {
   "cell_type": "code",
   "execution_count": 25,
   "id": "8c1dc797",
   "metadata": {},
   "outputs": [
    {
     "data": {
      "text/plain": [
       "100"
      ]
     },
     "execution_count": 25,
     "metadata": {},
     "output_type": "execute_result"
    }
   ],
   "source": [
    "square=lambda a :a**2\n",
    "square(10)"
   ]
  },
  {
   "cell_type": "code",
   "execution_count": null,
   "id": "164cb0ef",
   "metadata": {},
   "outputs": [],
   "source": []
  }
 ],
 "metadata": {
  "kernelspec": {
   "display_name": "Python 3",
   "language": "python",
   "name": "python3"
  },
  "language_info": {
   "codemirror_mode": {
    "name": "ipython",
    "version": 3
   },
   "file_extension": ".py",
   "mimetype": "text/x-python",
   "name": "python",
   "nbconvert_exporter": "python",
   "pygments_lexer": "ipython3",
   "version": "3.11.5"
  }
 },
 "nbformat": 4,
 "nbformat_minor": 5
}
