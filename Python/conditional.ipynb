{
 "cells": [
  {
   "cell_type": "markdown",
   "id": "3ca5bacd",
   "metadata": {},
   "source": [
    "#### CONDITIONAL STATEMENT\n",
    "* if ,else ,elif"
   ]
  },
  {
   "cell_type": "code",
   "execution_count": 9,
   "id": "717c3a56",
   "metadata": {},
   "outputs": [
    {
     "name": "stdout",
     "output_type": "stream",
     "text": [
      "x hai wo bda h 10 se\n"
     ]
    }
   ],
   "source": [
    "x = 10\n",
    "if (x<10): \n",
    "    print(\"x hai vo chota h 10 \")\n",
    "\n",
    "elif (x == 20):\n",
    "    print(\"x ki value hai vo 20 hai\")\n",
    "\n",
    "else:\n",
    "    print(\"x hai wo bda h 10 se\")"
   ]
  },
  {
   "cell_type": "code",
   "execution_count": null,
   "id": "7a0c28a5",
   "metadata": {},
   "outputs": [],
   "source": [
    " # task 2 \n",
    "\n",
    "# Find the Largest Number\n",
    "# Check Even or Odd\n",
    "# Leap Year Checker\n",
    "# Grading System\n",
    "# 90 and above: Grade A\n",
    "\n",
    "# 75 to 89: Grade B\n",
    "\n",
    "# 60 to 74: Grade C\n",
    "\n",
    "# # Below 60: Grade D\n",
    "# Find Largest of Three Numbers\n",
    "\n",
    "\n",
    "# Traffic Light System\n",
    "# Write a program that takes the color of a traffic light as input (red, yellow, green) and prints the corresponding action:\n",
    "\n",
    "# Red → Stop\n",
    "\n",
    "# Yellow → Wait\n",
    "\n",
    "# Green → Go"
   ]
  },
  {
   "cell_type": "code",
   "execution_count": null,
   "id": "0ea9a2f0",
   "metadata": {},
   "outputs": [
    {
     "name": "stdout",
     "output_type": "stream",
     "text": [
      "b is the largest number\n"
     ]
    }
   ],
   "source": [
    "###find the largest number\n",
    "\n",
    "a = 10\n",
    "b = 25\n",
    "c = 15\n",
    "if (a>=b and a>=c):\n",
    "    print(\"a is the largest number\")\n",
    "\n",
    "elif(b>=a and b>=c):\n",
    "    print(\"b is the largest number\")\n",
    "\n",
    "else:\n",
    "    print(\"c is the largest number\")        \n"
   ]
  },
  {
   "cell_type": "code",
   "execution_count": 1,
   "id": "e06a5b62",
   "metadata": {},
   "outputs": [
    {
     "name": "stdout",
     "output_type": "stream",
     "text": [
      " odd.\n"
     ]
    }
   ],
   "source": [
    "x = 5\n",
    "\n",
    "\n",
    "if x % 2 == 0:\n",
    "    print(\" even.\")\n",
    "else:\n",
    "    print(\" odd.\")"
   ]
  },
  {
   "cell_type": "code",
   "execution_count": 2,
   "id": "207c6033",
   "metadata": {},
   "outputs": [
    {
     "name": "stdout",
     "output_type": "stream",
     "text": [
      "Leap year\n"
     ]
    }
   ],
   "source": [
    "### leap year check \n",
    "y = 2000\n",
    "\n",
    "\n",
    "if y % 4 == 0:\n",
    "    \n",
    "    \n",
    "    if y % 100 == 0:\n",
    "        \n",
    "        \n",
    "        if y % 400 == 0:\n",
    "            \n",
    "            \n",
    "            print(\"Leap year\") \n",
    "        else:\n",
    "            print(\"Not a leap year\")  \n",
    "    else:\n",
    "        print(\"Leap year\") \n",
    "else:\n",
    "    print(\"Not a leap year\")"
   ]
  },
  {
   "cell_type": "code",
   "execution_count": 3,
   "id": "0866a126",
   "metadata": {},
   "outputs": [
    {
     "name": "stdout",
     "output_type": "stream",
     "text": [
      "Enter Marks Obtained in 3 Subjects: \n",
      "Your Grade is D\n"
     ]
    }
   ],
   "source": [
    "## grading system\n",
    "print(\"Enter Marks Obtained in 3 Subjects: \")\n",
    "total1 = 54\n",
    "total2 = 77\n",
    "total3 = 70\n",
    "tot = total1 + total2 + total3\n",
    "avg = tot / 3\n",
    "if avg >= 91 and avg <= 100:\n",
    "    print(\"Your Grade is A\")\n",
    "elif avg >= 81 and avg < 91:\n",
    "    print(\"Your Grade is B\")\n",
    "elif avg >= 71 and avg < 81:\n",
    "    print(\"Your Grade is c\")\n",
    "elif avg >= 61 and avg < 71:\n",
    "    print(\"Your Grade is D\")\n",
    "elif avg >= 51 and avg < 61:\n",
    "    print(\"Your Grade is E\")\n",
    "else:\n",
    "    print(\"invalid input\")"
   ]
  },
  {
   "cell_type": "code",
   "execution_count": 14,
   "id": "54482d5b",
   "metadata": {},
   "outputs": [
    {
     "name": "stdout",
     "output_type": "stream",
     "text": [
      " Please enter 'red', 'yellow', or 'green'.\n"
     ]
    }
   ],
   "source": [
    "### trafic light signal\n",
    "def traffic_light_simulator():\n",
    "    color = input(\"Enter the current traffic light color (red, yellow, or green): \").lower()\n",
    "\n",
    "    if color == \"red\":\n",
    "        print(\"STOP! Do not move .\")\n",
    "    elif color == \"yellow\":\n",
    "        print(\"Prepare to stop or clear the intersection.\")\n",
    "    elif color == \"green\":\n",
    "        print(\"GO! You may go \")\n",
    "    else:\n",
    "        print(\" Please enter 'red', 'yellow', or 'green'.\")\n",
    "\n",
    "\n",
    "traffic_light_simulator()"
   ]
  },
  {
   "cell_type": "code",
   "execution_count": null,
   "id": "161e25c7",
   "metadata": {},
   "outputs": [],
   "source": []
  }
 ],
 "metadata": {
  "kernelspec": {
   "display_name": "Python 3",
   "language": "python",
   "name": "python3"
  },
  "language_info": {
   "codemirror_mode": {
    "name": "ipython",
    "version": 3
   },
   "file_extension": ".py",
   "mimetype": "text/x-python",
   "name": "python",
   "nbconvert_exporter": "python",
   "pygments_lexer": "ipython3",
   "version": "3.11.5"
  }
 },
 "nbformat": 4,
 "nbformat_minor": 5
}
