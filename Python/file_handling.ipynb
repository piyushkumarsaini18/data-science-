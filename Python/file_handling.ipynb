{
 "cells": [
  {
   "cell_type": "markdown",
   "id": "3ea94733",
   "metadata": {},
   "source": [
    "### *File handling* \n",
    "\n",
    "| Mode   | Description                                                  |\n",
    "| ------ | ------------------------------------------------------------ |\n",
    "| \"r\"  | Read mode (default), error if file doesn't exist             |\n",
    "| \"w\"  | Write mode, creates a file if not exist, overwrites existing |\n",
    "| \"a\"  | Append mode, adds content to end of file                     |\n",
    "| \"x\"  | Create mode, error if file already exists                    |\n",
    "                                         |"
   ]
  },
  {
   "cell_type": "code",
   "execution_count": null,
   "id": "070cba1d",
   "metadata": {},
   "outputs": [],
   "source": [
    "file =open('demo,txt','r')  ###r for read and demo,txt is name of file\n",
    "file.read()  ###\n",
    "file.close()"
   ]
  },
  {
   "cell_type": "code",
   "execution_count": null,
   "id": "e207ae45",
   "metadata": {},
   "outputs": [],
   "source": [
    "file =open('demo,txt','r') ### it will append the file\n",
    "file.readline()  ### it will read all the lines of the file\n",
    "file.close()"
   ]
  },
  {
   "cell_type": "code",
   "execution_count": null,
   "id": "abdfd358",
   "metadata": {},
   "outputs": [],
   "source": [
    "file =open('demo,txt','r') ### it will append the file\n",
    "# file.readlines() ### it will read all the lines of the file\n",
    "file.close()"
   ]
  },
  {
   "cell_type": "code",
   "execution_count": null,
   "id": "00da0656",
   "metadata": {},
   "outputs": [],
   "source": [
    "file =open('demo,txt','w')  ## w for write mode and demo,txt is name of file\n",
    "# file.read() ## it will read the file\n",
    "file.write(\"hello world\")  ## it will eriye the file\n",
    "file.close()"
   ]
  },
  {
   "cell_type": "code",
   "execution_count": 10,
   "id": "f30c9821",
   "metadata": {},
   "outputs": [],
   "source": [
    "file =open('demo,txt','r')\n",
    "file.read()\n",
    "file.close()"
   ]
  },
  {
   "cell_type": "code",
   "execution_count": 12,
   "id": "814f59b6",
   "metadata": {},
   "outputs": [],
   "source": [
    "### append mode\n",
    "file =open('demo,txt','a')\n",
    "file.write(\"kaise ho\")\n",
    "file.close()"
   ]
  },
  {
   "cell_type": "code",
   "execution_count": 14,
   "id": "3896cde5",
   "metadata": {},
   "outputs": [],
   "source": [
    "file =open(\"demo,txt\",'r')\n",
    "file.close()"
   ]
  },
  {
   "cell_type": "code",
   "execution_count": 15,
   "id": "64768af4",
   "metadata": {},
   "outputs": [],
   "source": [
    "file =open('demo,txt','a')\n",
    "file.write(\"append mode ka kaam ye hota hai ki ager isko file milti h to usi file ke ander append ker dega isko flie nhi milti h to create ker dega\")\n",
    "\n",
    "file.close()"
   ]
  },
  {
   "cell_type": "code",
   "execution_count": 17,
   "id": "7e93223c",
   "metadata": {},
   "outputs": [
    {
     "data": {
      "text/plain": [
       "'hello worldkaise hoappend mode ka kaam ye hota hai ki ager isko file milti h to usi file ke ander append ker dega isko flie nhi milti h to create ker dega'"
      ]
     },
     "execution_count": 17,
     "metadata": {},
     "output_type": "execute_result"
    }
   ],
   "source": [
    "open('demo,txt','r').read()"
   ]
  },
  {
   "cell_type": "code",
   "execution_count": 19,
   "id": "ec09ca79",
   "metadata": {},
   "outputs": [
    {
     "ename": "FileExistsError",
     "evalue": "[Errno 17] File exists: 'upflair.txt'",
     "output_type": "error",
     "traceback": [
      "\u001b[31m---------------------------------------------------------------------------\u001b[39m",
      "\u001b[31mFileExistsError\u001b[39m                           Traceback (most recent call last)",
      "\u001b[36mCell\u001b[39m\u001b[36m \u001b[39m\u001b[32mIn[19]\u001b[39m\u001b[32m, line 4\u001b[39m\n\u001b[32m      1\u001b[39m \u001b[38;5;66;03m### create mode \u001b[39;00m\n\u001b[32m----> \u001b[39m\u001b[32m4\u001b[39m file =\u001b[38;5;28;43mopen\u001b[39;49m\u001b[43m(\u001b[49m\u001b[33;43m'\u001b[39;49m\u001b[33;43mupflair.txt\u001b[39;49m\u001b[33;43m'\u001b[39;49m\u001b[43m,\u001b[49m\u001b[33;43m'\u001b[39;49m\u001b[33;43mx\u001b[39;49m\u001b[33;43m'\u001b[39;49m\u001b[43m)\u001b[49m\n\u001b[32m      5\u001b[39m file.write(\u001b[33m\"\u001b[39m\u001b[33mhello kaisa lga upflair aake\u001b[39m\u001b[33m\"\u001b[39m)\n\u001b[32m      6\u001b[39m file.close()\n",
      "\u001b[36mFile \u001b[39m\u001b[32m~\\AppData\\Roaming\\Python\\Python311\\site-packages\\IPython\\core\\interactiveshell.py:343\u001b[39m, in \u001b[36m_modified_open\u001b[39m\u001b[34m(file, *args, **kwargs)\u001b[39m\n\u001b[32m    336\u001b[39m \u001b[38;5;28;01mif\u001b[39;00m file \u001b[38;5;129;01min\u001b[39;00m {\u001b[32m0\u001b[39m, \u001b[32m1\u001b[39m, \u001b[32m2\u001b[39m}:\n\u001b[32m    337\u001b[39m     \u001b[38;5;28;01mraise\u001b[39;00m \u001b[38;5;167;01mValueError\u001b[39;00m(\n\u001b[32m    338\u001b[39m         \u001b[33mf\u001b[39m\u001b[33m\"\u001b[39m\u001b[33mIPython won\u001b[39m\u001b[33m'\u001b[39m\u001b[33mt let you open fd=\u001b[39m\u001b[38;5;132;01m{\u001b[39;00mfile\u001b[38;5;132;01m}\u001b[39;00m\u001b[33m by default \u001b[39m\u001b[33m\"\u001b[39m\n\u001b[32m    339\u001b[39m         \u001b[33m\"\u001b[39m\u001b[33mas it is likely to crash IPython. If you know what you are doing, \u001b[39m\u001b[33m\"\u001b[39m\n\u001b[32m    340\u001b[39m         \u001b[33m\"\u001b[39m\u001b[33myou can use builtins\u001b[39m\u001b[33m'\u001b[39m\u001b[33m open.\u001b[39m\u001b[33m\"\u001b[39m\n\u001b[32m    341\u001b[39m     )\n\u001b[32m--> \u001b[39m\u001b[32m343\u001b[39m \u001b[38;5;28;01mreturn\u001b[39;00m \u001b[43mio_open\u001b[49m\u001b[43m(\u001b[49m\u001b[43mfile\u001b[49m\u001b[43m,\u001b[49m\u001b[43m \u001b[49m\u001b[43m*\u001b[49m\u001b[43margs\u001b[49m\u001b[43m,\u001b[49m\u001b[43m \u001b[49m\u001b[43m*\u001b[49m\u001b[43m*\u001b[49m\u001b[43mkwargs\u001b[49m\u001b[43m)\u001b[49m\n",
      "\u001b[31mFileExistsError\u001b[39m: [Errno 17] File exists: 'upflair.txt'"
     ]
    }
   ],
   "source": [
    "### create mode \n",
    "\n",
    "\n",
    "file =open('upflair.txt','x')\n",
    "file.write(\"hello kaisa lga upflair aake\")\n",
    "file.close()\n",
    "# file read()"
   ]
  },
  {
   "cell_type": "code",
   "execution_count": null,
   "id": "85e17e56",
   "metadata": {},
   "outputs": [],
   "source": []
  }
 ],
 "metadata": {
  "kernelspec": {
   "display_name": "Python 3",
   "language": "python",
   "name": "python3"
  },
  "language_info": {
   "codemirror_mode": {
    "name": "ipython",
    "version": 3
   },
   "file_extension": ".py",
   "mimetype": "text/x-python",
   "name": "python",
   "nbconvert_exporter": "python",
   "pygments_lexer": "ipython3",
   "version": "3.11.5"
  }
 },
 "nbformat": 4,
 "nbformat_minor": 5
}
