{
 "cells": [
  {
   "cell_type": "markdown",
   "id": "3ea94733",
   "metadata": {},
   "source": [
    "### *File handling* \n",
    "\n",
    "| Mode   | Description                                                  |\n",
    "| ------ | ------------------------------------------------------------ |\n",
    "| \"r\"  | Read mode (default), error if file doesn't exist             |\n",
    "| \"w\"  | Write mode, creates a file if not exist, overwrites existing |\n",
    "| \"a\"  | Append mode, adds content to end of file                     |\n",
    "| \"x\"  | Create mode, error if file already exists                    |\n",
    "                                         |"
   ]
  },
  {
   "cell_type": "code",
   "execution_count": 13,
   "id": "070cba1d",
   "metadata": {},
   "outputs": [],
   "source": [
    "file =open('demo,txt','r')  ###r for read and demo,txt is name of file\n",
    "file.read()  ###\n",
    "file.close()"
   ]
  },
  {
   "cell_type": "code",
   "execution_count": 14,
   "id": "e207ae45",
   "metadata": {},
   "outputs": [],
   "source": [
    "file =open('demo,txt','r') ### it will append the file\n",
    "file.readline()  ### it will read all the lines of the file\n",
    "file.close()"
   ]
  },
  {
   "cell_type": "code",
   "execution_count": 15,
   "id": "abdfd358",
   "metadata": {},
   "outputs": [],
   "source": [
    "file =open('demo,txt','r') ### it will append the file\n",
    "# file.readlines() ### it will read all the lines of the file\n",
    "file.close()"
   ]
  },
  {
   "cell_type": "code",
   "execution_count": 16,
   "id": "00da0656",
   "metadata": {},
   "outputs": [],
   "source": [
    "file =open('demo,txt','w')  ## w for write mode and demo,txt is name of file\n",
    "# file.read() ## it will read the file\n",
    "file.write(\"hello world\")  ## it will eriye the file\n",
    "file.close()"
   ]
  },
  {
   "cell_type": "code",
   "execution_count": 17,
   "id": "f30c9821",
   "metadata": {},
   "outputs": [],
   "source": [
    "file =open('demo,txt','r')\n",
    "file.read()\n",
    "file.close()"
   ]
  },
  {
   "cell_type": "code",
   "execution_count": 18,
   "id": "814f59b6",
   "metadata": {},
   "outputs": [],
   "source": [
    "### append mode\n",
    "file =open('demo,txt','a')\n",
    "file.write(\"kaise ho\")\n",
    "file.close()"
   ]
  },
  {
   "cell_type": "code",
   "execution_count": 19,
   "id": "3896cde5",
   "metadata": {},
   "outputs": [],
   "source": [
    "file =open(\"demo,txt\",'r')\n",
    "file.close()"
   ]
  },
  {
   "cell_type": "code",
   "execution_count": 20,
   "id": "64768af4",
   "metadata": {},
   "outputs": [],
   "source": [
    "file =open('demo,txt','a')\n",
    "file.write(\"append mode ka kaam ye hota hai ki ager isko file milti h to usi file ke ander append ker dega isko flie nhi milti h to create ker dega\")\n",
    "\n",
    "file.close()"
   ]
  },
  {
   "cell_type": "code",
   "execution_count": 21,
   "id": "7e93223c",
   "metadata": {},
   "outputs": [
    {
     "data": {
      "text/plain": [
       "'hello worldkaise hoappend mode ka kaam ye hota hai ki ager isko file milti h to usi file ke ander append ker dega isko flie nhi milti h to create ker dega'"
      ]
     },
     "execution_count": 21,
     "metadata": {},
     "output_type": "execute_result"
    }
   ],
   "source": [
    "open('demo,txt','r').read()"
   ]
  },
  {
   "cell_type": "code",
   "execution_count": 24,
   "id": "ec09ca79",
   "metadata": {},
   "outputs": [],
   "source": [
    "# ### create mode \n",
    "\n",
    "\n",
    "file =open('upflair.txt','x')\n",
    "file.write(\"hello kaisa lga upflair aake\")\n",
    "file.close()\n",
    "# # file read()"
   ]
  },
  {
   "cell_type": "code",
   "execution_count": null,
   "id": "85e17e56",
   "metadata": {},
   "outputs": [],
   "source": []
  }
 ],
 "metadata": {
  "kernelspec": {
   "display_name": "Python 3",
   "language": "python",
   "name": "python3"
  },
  "language_info": {
   "codemirror_mode": {
    "name": "ipython",
    "version": 3
   },
   "file_extension": ".py",
   "mimetype": "text/x-python",
   "name": "python",
   "nbconvert_exporter": "python",
   "pygments_lexer": "ipython3",
   "version": "3.11.5"
  }
 },
 "nbformat": 4,
 "nbformat_minor": 5
}
