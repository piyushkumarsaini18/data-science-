{
 "cells": [
  {
   "cell_type": "markdown",
   "id": "e2acf3e0",
   "metadata": {},
   "source": [
    "#### looping in python\n",
    " \n",
    "in python, loops are control structures that allow you to execute a block of code repreatedly. there are two main types of loops\n",
    "\n",
    "FOR \n",
    "\n",
    "\n",
    "WHILE\n"
   ]
  },
  {
   "cell_type": "markdown",
   "id": "23482a84",
   "metadata": {},
   "source": []
  },
  {
   "cell_type": "code",
   "execution_count": 1,
   "id": "0b76d5b4",
   "metadata": {},
   "outputs": [
    {
     "name": "stdout",
     "output_type": "stream",
     "text": [
      "b\n",
      "h\n",
      "u\n",
      "p\n",
      "e\n",
      "s\n",
      "h\n"
     ]
    }
   ],
   "source": [
    "#for\n",
    "#while\n",
    "# \"bhupesh\"\n",
    "for x in \"bhupesh\":\n",
    "    print(x)\n",
    "    "
   ]
  },
  {
   "cell_type": "code",
   "execution_count": 2,
   "id": "59996bdf",
   "metadata": {},
   "outputs": [
    {
     "name": "stdout",
     "output_type": "stream",
     "text": [
      "1\n",
      "2\n",
      "3\n",
      "4\n",
      "5\n"
     ]
    }
   ],
   "source": [
    "lst = [1,2,3,4,5]\n",
    "for x in lst:\n",
    "    print(x)"
   ]
  },
  {
   "cell_type": "code",
   "execution_count": 3,
   "id": "dd0ea741",
   "metadata": {},
   "outputs": [
    {
     "name": "stdout",
     "output_type": "stream",
     "text": [
      "0\n",
      "1\n",
      "2\n",
      "3\n",
      "4\n",
      "5\n",
      "6\n",
      "7\n",
      "8\n",
      "9\n"
     ]
    }
   ],
   "source": [
    "# range()\n",
    "for x in range(10):\n",
    "    print(x)"
   ]
  },
  {
   "cell_type": "code",
   "execution_count": null,
   "id": "a76d2b6c",
   "metadata": {},
   "outputs": [
    {
     "name": "stdout",
     "output_type": "stream",
     "text": [
      "2\n",
      "4\n",
      "6\n",
      "8\n",
      "10\n",
      "12\n",
      "14\n",
      "16\n",
      "18\n",
      "20\n"
     ]
    }
   ],
   "source": [
    "for x in range(2,22,2):\n",
    "    print(x)  ###start point and second ending and two gap"
   ]
  },
  {
   "cell_type": "code",
   "execution_count": 6,
   "id": "44d628e1",
   "metadata": {},
   "outputs": [],
   "source": [
    "my_dict ={\"name\":\"govind\",\n",
    "\"class\":'1st class',\n",
    "'roll number':'21efgsv801',\n",
    "'address':'kuchman city'\n",
    "\n",
    "}"
   ]
  },
  {
   "cell_type": "code",
   "execution_count": 7,
   "id": "56af0bdc",
   "metadata": {},
   "outputs": [
    {
     "name": "stdout",
     "output_type": "stream",
     "text": [
      "('name', 'govind')\n",
      "('class', '1st class')\n",
      "('roll number', '21efgsv801')\n",
      "('address', 'kuchman city')\n"
     ]
    }
   ],
   "source": [
    "for item in my_dict.items():\n",
    "    print(item)"
   ]
  },
  {
   "cell_type": "code",
   "execution_count": 10,
   "id": "92533fd6",
   "metadata": {},
   "outputs": [
    {
     "name": "stdout",
     "output_type": "stream",
     "text": [
      "govind\n",
      "1st class\n",
      "21efgsv801\n",
      "kuchman city\n"
     ]
    }
   ],
   "source": [
    "for item in my_dict.values():\n",
    "    print(item)"
   ]
  },
  {
   "cell_type": "code",
   "execution_count": null,
   "id": "72a3ac6b",
   "metadata": {},
   "outputs": [],
   "source": [
    "for item in my_dict."
   ]
  },
  {
   "cell_type": "markdown",
   "id": "2fd833cf",
   "metadata": {},
   "source": [
    "#### while loop\n"
   ]
  },
  {
   "cell_type": "code",
   "execution_count": 2,
   "id": "427091a3",
   "metadata": {},
   "outputs": [],
   "source": [
    "# = and == and is \n",
    "# or and not\n",
    "# in and not in \n"
   ]
  },
  {
   "cell_type": "code",
   "execution_count": null,
   "id": "0e5637f5",
   "metadata": {},
   "outputs": [],
   "source": [
    "# a = 20\n",
    "# while a>10:\n",
    "#     print(a)\n",
    "#     a = a+1\n",
    "\n",
    "# while true\n",
    "    # print(\"hello\")"
   ]
  }
 ],
 "metadata": {
  "kernelspec": {
   "display_name": "Python 3",
   "language": "python",
   "name": "python3"
  },
  "language_info": {
   "codemirror_mode": {
    "name": "ipython",
    "version": 3
   },
   "file_extension": ".py",
   "mimetype": "text/x-python",
   "name": "python",
   "nbconvert_exporter": "python",
   "pygments_lexer": "ipython3",
   "version": "3.11.5"
  }
 },
 "nbformat": 4,
 "nbformat_minor": 5
}
