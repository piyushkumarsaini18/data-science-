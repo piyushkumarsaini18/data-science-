{
 "cells": [
  {
   "cell_type": "markdown",
   "id": "12e3228c",
   "metadata": {},
   "source": [
    "### "
   ]
  },
  {
   "cell_type": "code",
   "execution_count": 1,
   "id": "015bda33",
   "metadata": {},
   "outputs": [],
   "source": [
    "try:\n",
    "    pass#main code\n",
    "except:\n",
    "    pass # error handling\n",
    "else:\n",
    "    pass ##multiple error\n",
    "finally:\n",
    "    pass ## koi chale ya na cahel m to chalunga"
   ]
  },
  {
   "cell_type": "code",
   "execution_count": null,
   "id": "61215fd2",
   "metadata": {},
   "outputs": [
    {
     "name": "stdout",
     "output_type": "stream",
     "text": [
      "6\n"
     ]
    }
   ],
   "source": [
    "try:\n",
    "    a= int(input(\"enter a number\"))\n",
    "    b=int(input(\"enter a second number\"))\n",
    "    print(a*b)\n",
    "except ValueError as e:\n",
    "    print(\"invalid input\",e)\n",
    "\n",
    "    # pyhton error handling"
   ]
  },
  {
   "cell_type": "code",
   "execution_count": 4,
   "id": "15efe549",
   "metadata": {},
   "outputs": [
    {
     "name": "stdout",
     "output_type": "stream",
     "text": [
      "5.0\n"
     ]
    }
   ],
   "source": [
    "try:\n",
    "    a= int(input(\"enter a number\"))\n",
    "    b=int(input(\"enter a second number\"))\n",
    "    print(a/b)\n",
    "except ValueError as e:\n",
    "    print(e)\n",
    "\n",
    "    # pyhton error handling"
   ]
  },
  {
   "cell_type": "code",
   "execution_count": null,
   "id": "14661a02",
   "metadata": {},
   "outputs": [
    {
     "name": "stdout",
     "output_type": "stream",
     "text": [
      "2.0\n"
     ]
    }
   ],
   "source": [
    "try:\n",
    "    a= int(input(\"enter a number\"))\n",
    "    b=int(input(\"enter a second number\"))\n",
    "    print(a/b)\n",
    "except Exception as e:   ### exeception ?>> this use for handling all error\n",
    "    print(e)\n",
    "\n",
    "    # pyhton error handling\n"
   ]
  },
  {
   "cell_type": "code",
   "execution_count": 7,
   "id": "85797382",
   "metadata": {},
   "outputs": [
    {
     "name": "stdout",
     "output_type": "stream",
     "text": [
      "division by zero\n",
      "koi chale na chale me to chalunga\n"
     ]
    }
   ],
   "source": [
    "try:\n",
    "    a = int(input(\"enter a number\"))\n",
    "    b =  int(input(\"enter a second number\"))\n",
    "    print(a/b)\n",
    "except ZeroDivisionError as e:\n",
    "    print(e)\n",
    "else:\n",
    "    print(\"no error\")\n",
    "    print(a*b)\n",
    "finally:\n",
    "    print(\"koi chale na chale me to chalunga\")"
   ]
  },
  {
   "cell_type": "code",
   "execution_count": 11,
   "id": "8f3aadeb",
   "metadata": {},
   "outputs": [
    {
     "name": "stdout",
     "output_type": "stream",
     "text": [
      "invalid literal for int() with base 10: 'hhh'\n",
      "Thanks for using our service\n"
     ]
    }
   ],
   "source": [
    "try:\n",
    "    num1 =  int(input(\"enter a number\"))\n",
    "    num2 =  int(input(\"enter a second number\"))\n",
    "    result = num1/num2\n",
    "except ZeroDivisionError as e:\n",
    "    print(e)\n",
    "except ValueError as e:\n",
    "    print(e)\n",
    "except Exception as e:\n",
    "    print(\"final result\",result)\n",
    "finally:\n",
    "    print(\"Thanks for using our service\")"
   ]
  },
  {
   "cell_type": "code",
   "execution_count": null,
   "id": "774cdd1b",
   "metadata": {},
   "outputs": [],
   "source": []
  }
 ],
 "metadata": {
  "kernelspec": {
   "display_name": "Python 3",
   "language": "python",
   "name": "python3"
  },
  "language_info": {
   "codemirror_mode": {
    "name": "ipython",
    "version": 3
   },
   "file_extension": ".py",
   "mimetype": "text/x-python",
   "name": "python",
   "nbconvert_exporter": "python",
   "pygments_lexer": "ipython3",
   "version": "3.11.5"
  }
 },
 "nbformat": 4,
 "nbformat_minor": 5
}
