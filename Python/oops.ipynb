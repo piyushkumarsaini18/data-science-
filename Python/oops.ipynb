{
 "cells": [
  {
   "cell_type": "markdown",
   "id": "d28e408e",
   "metadata": {},
   "source": [
    "### oops concept in python"
   ]
  },
  {
   "cell_type": "code",
   "execution_count": 1,
   "id": "f960e091",
   "metadata": {},
   "outputs": [],
   "source": [
    "# global variable\n",
    "# local variable\n",
    "### polymorphism\n",
    "# inhertance\n",
    "# encapsulation\n",
    "# abstraction\n"
   ]
  },
  {
   "cell_type": "code",
   "execution_count": 2,
   "id": "2254af7e",
   "metadata": {},
   "outputs": [],
   "source": [
    "class class_name:\n",
    "    pass\n",
    "# class_name>>>>>>>>class name\n",
    "# pass >>placeholder\n",
    "# class is key word"
   ]
  },
  {
   "cell_type": "code",
   "execution_count": null,
   "id": "8a00b299",
   "metadata": {},
   "outputs": [
    {
     "name": "stdout",
     "output_type": "stream",
     "text": [
      "my name is ritik and my age is 20\n"
     ]
    }
   ],
   "source": [
    "class student:\n",
    "    name =\"ritik\"  ### class variable\n",
    "    age = 20   ###class variable\n",
    "    print(f\"my name is {name} and my age is {age}\")\n",
    "obj_st=student()   ###obj_st is object"
   ]
  },
  {
   "cell_type": "code",
   "execution_count": 7,
   "id": "ad4a1b2e",
   "metadata": {},
   "outputs": [
    {
     "data": {
      "text/plain": [
       "'ritik'"
      ]
     },
     "execution_count": 7,
     "metadata": {},
     "output_type": "execute_result"
    }
   ],
   "source": [
    "obj_st.name"
   ]
  },
  {
   "cell_type": "code",
   "execution_count": 8,
   "id": "4812f49c",
   "metadata": {},
   "outputs": [
    {
     "data": {
      "text/plain": [
       "20"
      ]
     },
     "execution_count": 8,
     "metadata": {},
     "output_type": "execute_result"
    }
   ],
   "source": [
    "obj_st.age"
   ]
  },
  {
   "cell_type": "code",
   "execution_count": 33,
   "id": "8ed86294",
   "metadata": {},
   "outputs": [],
   "source": [
    "class student:\n",
    "    name =\"ritik\"  ### class variable\n",
    "    age = 20   ###class variable\n",
    "\n",
    "    def info(self):\n",
    "        print(\"this is my method\")\n",
    "        print(\"hoe are you all\")\n",
    "\n",
    "    \n",
    "dt_obj= student()\n"
   ]
  },
  {
   "cell_type": "code",
   "execution_count": 34,
   "id": "68d94aeb",
   "metadata": {},
   "outputs": [
    {
     "name": "stdout",
     "output_type": "stream",
     "text": [
      "this is my method\n",
      "hoe are you all\n"
     ]
    }
   ],
   "source": [
    "dt_obj.info()"
   ]
  },
  {
   "cell_type": "code",
   "execution_count": 35,
   "id": "20121901",
   "metadata": {},
   "outputs": [],
   "source": [
    "class student:\n",
    "    name =\"ritik\"  ### class variable\n",
    "    age = 20   ###class variable\n",
    "\n",
    "    def info(self):\n",
    "        print(\"name\")\n",
    "        print(\"age\")\n",
    "\n",
    "    \n",
    "dt_obj =student()\n"
   ]
  },
  {
   "cell_type": "code",
   "execution_count": 36,
   "id": "3f271dc2",
   "metadata": {},
   "outputs": [
    {
     "name": "stdout",
     "output_type": "stream",
     "text": [
      "name\n",
      "age\n"
     ]
    }
   ],
   "source": [
    "dt_obj.info()"
   ]
  },
  {
   "cell_type": "code",
   "execution_count": null,
   "id": "4245f826",
   "metadata": {},
   "outputs": [],
   "source": [
    "class student:\n",
    "    name =\"ritik\"  ### class variable\n",
    "    age = 20   ###class variable\n",
    "\n",
    "    def info(self):\n",
    "        print(f\"my name is {self.name} and my age is {self.age}\")\n",
    "    \n",
    "\n",
    "    \n",
    "dt_obj =student()\n"
   ]
  },
  {
   "cell_type": "code",
   "execution_count": null,
   "id": "230d58c6",
   "metadata": {},
   "outputs": [],
   "source": [
    "dt_obj.info()"
   ]
  },
  {
   "cell_type": "code",
   "execution_count": null,
   "id": "20c121a8",
   "metadata": {},
   "outputs": [],
   "source": []
  },
  {
   "cell_type": "markdown",
   "id": "3c2713c1",
   "metadata": {},
   "source": [
    "### inheritance\n",
    "\n",
    " ** types of inheritance\n",
    "\n",
    " * single inheritance\n",
    " * multiple inheritance\n",
    " * multilevel inheritance\n",
    " * hierarchical inheritance\n",
    " * hybrid inheritance"
   ]
  },
  {
   "cell_type": "markdown",
   "id": "63b6c29e",
   "metadata": {},
   "source": []
  },
  {
   "cell_type": "code",
   "execution_count": null,
   "id": "5b336a70",
   "metadata": {},
   "outputs": [],
   "source": [
    "# class collage:\n",
    "#     pass\n",
    "\n",
    "# class student:\n",
    "#     pass\n",
    "\n",
    "\n"
   ]
  },
  {
   "cell_type": "code",
   "execution_count": 25,
   "id": "fbc38e61",
   "metadata": {},
   "outputs": [],
   "source": [
    "### single inheritance\n",
    "class collage:\n",
    "    pass\n",
    "class student(collage):\n",
    "    pass\n"
   ]
  },
  {
   "cell_type": "code",
   "execution_count": null,
   "id": "ad97de41",
   "metadata": {},
   "outputs": [
    {
     "name": "stdout",
     "output_type": "stream",
     "text": [
      "raffles university\n",
      "neemrana\n",
      "piyush\n",
      "1234\n"
     ]
    }
   ],
   "source": [
    "class collage:\n",
    "    collage_name = \"raffles university\"\n",
    "    collage_address =\"neemrana\"\n",
    "\n",
    "class student(collage):\n",
    "    student_name =\"piyush\"\n",
    "    student_id =\"1234\"\n",
    "    \n",
    "st_obj = student()\n",
    "print(st_obj.collage_name)\n",
    "print(st_obj.collage_address)\n",
    "print(st_obj.student_name)\n",
    "print(st_obj.student_id)    \n",
    "\n"
   ]
  },
  {
   "cell_type": "code",
   "execution_count": 52,
   "id": "b816b97c",
   "metadata": {},
   "outputs": [
    {
     "data": {
      "text/plain": [
       "'neemrana'"
      ]
     },
     "execution_count": 52,
     "metadata": {},
     "output_type": "execute_result"
    }
   ],
   "source": [
    "st_obj.collage_address"
   ]
  },
  {
   "cell_type": "code",
   "execution_count": 53,
   "id": "7c6218bc",
   "metadata": {},
   "outputs": [
    {
     "data": {
      "text/plain": [
       "'piyush'"
      ]
     },
     "execution_count": 53,
     "metadata": {},
     "output_type": "execute_result"
    }
   ],
   "source": [
    "st_obj.student_name"
   ]
  },
  {
   "cell_type": "code",
   "execution_count": null,
   "id": "3d09b555",
   "metadata": {},
   "outputs": [
    {
     "name": "stdout",
     "output_type": "stream",
     "text": [
      "ritik\n",
      "1234\n",
      "rohit kumar\n"
     ]
    }
   ],
   "source": [
    "### multiple inhertance\n",
    "class father:\n",
    "    father_name = \"ritik\"\n",
    "    father_id = \"1234\"\n",
    "class uncle:\n",
    "        uncle_name = \"rohit kumar\"\n",
    "class child(father,uncle):\n",
    "        pass\n",
    "\n",
    "obj_child= child()\n",
    "print(obj_child.father_name)\n",
    "print(obj_child.father_id)\n",
    "print(obj_child.uncle_name)    \n"
   ]
  },
  {
   "cell_type": "code",
   "execution_count": 33,
   "id": "1f96f0f4",
   "metadata": {},
   "outputs": [
    {
     "name": "stdout",
     "output_type": "stream",
     "text": [
      "ritik\n",
      "1234\n",
      "rohit kumar\n",
      "123355\n"
     ]
    }
   ],
   "source": [
    "### multilevel inhertance\n",
    "class grandfather:\n",
    "    grandfather_name =\"ritik\"\n",
    "    grandfather_id =\"1234\"\n",
    "class father(grandfather):\n",
    "    father_name =\"rohit kumar\"\n",
    "    father_id =\"123355\"\n",
    "\n",
    "class child(father):\n",
    "    pass\n",
    "\n",
    "obj_child =child()\n",
    "print(obj_child.grandfather_name)\n",
    "print(obj_child.grandfather_id)\n",
    "print(obj_child.father_name)\n",
    "print(obj_child.father_id)"
   ]
  },
  {
   "cell_type": "code",
   "execution_count": 59,
   "id": "f08261f9",
   "metadata": {},
   "outputs": [
    {
     "name": "stdout",
     "output_type": "stream",
     "text": [
      "hello\n"
     ]
    }
   ],
   "source": [
    "### polymorphism\n",
    "print(\"hello\")"
   ]
  },
  {
   "cell_type": "code",
   "execution_count": 58,
   "id": "51832a9e",
   "metadata": {},
   "outputs": [
    {
     "name": "stdout",
     "output_type": "stream",
     "text": [
      "[1, 2, 3, 4, 5]\n"
     ]
    }
   ],
   "source": [
    "lst =[1,2,3,4,5]\n",
    "print(lst)"
   ]
  },
  {
   "cell_type": "code",
   "execution_count": 60,
   "id": "12fd1bb6",
   "metadata": {},
   "outputs": [
    {
     "data": {
      "text/plain": [
       "list"
      ]
     },
     "execution_count": 60,
     "metadata": {},
     "output_type": "execute_result"
    }
   ],
   "source": [
    "type(lst)"
   ]
  },
  {
   "cell_type": "code",
   "execution_count": 2,
   "id": "4b0e2d4a",
   "metadata": {},
   "outputs": [
    {
     "data": {
      "text/plain": [
       "str"
      ]
     },
     "execution_count": 2,
     "metadata": {},
     "output_type": "execute_result"
    }
   ],
   "source": [
    "type(\"hello\")"
   ]
  },
  {
   "cell_type": "code",
   "execution_count": null,
   "id": "39fe3f40",
   "metadata": {},
   "outputs": [],
   "source": [
    " ### Encapsulation\n",
    "\n",
    "# private \n",
    "# public\n",
    "# protected\n",
    "class student:\n",
    "    __name = \"ritik\"# private variable \n",
    "    age =20  #public \n",
    "    id =\"1234\"  #protected\n",
    "    \n",
    "st_obj = student()"
   ]
  },
  {
   "cell_type": "code",
   "execution_count": 4,
   "id": "ee2b1afc",
   "metadata": {},
   "outputs": [
    {
     "data": {
      "text/plain": [
       "20"
      ]
     },
     "execution_count": 4,
     "metadata": {},
     "output_type": "execute_result"
    }
   ],
   "source": [
    "st_obj.age"
   ]
  },
  {
   "cell_type": "code",
   "execution_count": 56,
   "id": "5b35905f",
   "metadata": {},
   "outputs": [],
   "source": [
    "st_obj.id:str"
   ]
  },
  {
   "cell_type": "code",
   "execution_count": null,
   "id": "6a6222f1",
   "metadata": {},
   "outputs": [],
   "source": [
    "st_obj.__name: str\n"
   ]
  },
  {
   "cell_type": "code",
   "execution_count": null,
   "id": "4b3b5414",
   "metadata": {},
   "outputs": [],
   "source": [
    "# bank \n",
    "\n",
    "# accuont numberb private\n",
    "# Name\n",
    "# address \n",
    "# phone number\n",
    "# method\n",
    "# total balance\n",
    "\n",
    "# class\n",
    "# method\n",
    "# inheritance\n",
    "\n",
    "# task 1>>>> super function\n",
    "#  task 2>>. bmi calculator   class\n"
   ]
  },
  {
   "cell_type": "code",
   "execution_count": 59,
   "id": "c134d695",
   "metadata": {},
   "outputs": [],
   "source": [
    "class bank:\n",
    "\n",
    "    accountnumber = \"789045\"\n",
    "    accountholdername =\"ritik\"\n",
    "    address = \"neemrana\"\n",
    "    phonenumber = 2536422563\n",
    "    method = \"cash\"\n",
    "    totalbalance =\"4000\"\n",
    "    \n",
    "\n",
    "st_obj=bank()"
   ]
  },
  {
   "cell_type": "code",
   "execution_count": 49,
   "id": "0e90daa5",
   "metadata": {},
   "outputs": [
    {
     "data": {
      "text/plain": [
       "'ritik'"
      ]
     },
     "execution_count": 49,
     "metadata": {},
     "output_type": "execute_result"
    }
   ],
   "source": [
    "st_obj.accountholdername"
   ]
  },
  {
   "cell_type": "code",
   "execution_count": 50,
   "id": "9e29c9f0",
   "metadata": {},
   "outputs": [
    {
     "data": {
      "text/plain": [
       "2536422563"
      ]
     },
     "execution_count": 50,
     "metadata": {},
     "output_type": "execute_result"
    }
   ],
   "source": [
    "st_obj.phonenumber"
   ]
  },
  {
   "cell_type": "code",
   "execution_count": 57,
   "id": "a6a5c7da",
   "metadata": {},
   "outputs": [
    {
     "data": {
      "text/plain": [
       "'4000'"
      ]
     },
     "execution_count": 57,
     "metadata": {},
     "output_type": "execute_result"
    }
   ],
   "source": [
    "st_obj.totalbalance"
   ]
  },
  {
   "cell_type": "code",
   "execution_count": null,
   "id": "ce789649",
   "metadata": {},
   "outputs": [],
   "source": [
    "class bank:\n",
    "    __account_number =\"1254\"\n",
    "    name = \"ritik\"\n",
    "    address = \"neemrana\"\n",
    "    "
   ]
  },
  {
   "cell_type": "code",
   "execution_count": 62,
   "id": "b03570f3",
   "metadata": {},
   "outputs": [
    {
     "data": {
      "text/plain": [
       "<__main__.student at 0x1b23049ce10>"
      ]
     },
     "execution_count": 62,
     "metadata": {},
     "output_type": "execute_result"
    }
   ],
   "source": [
    "## constructor \n",
    "#init method\n",
    "# __init_\n",
    "\n",
    "class student:\n",
    "    def _init_(self):\n",
    "      pass\n",
    "student()"
   ]
  },
  {
   "cell_type": "code",
   "execution_count": 66,
   "id": "88167b00",
   "metadata": {},
   "outputs": [
    {
     "name": "stdout",
     "output_type": "stream",
     "text": [
      "ritik\n",
      "22\n"
     ]
    }
   ],
   "source": [
    "class student:\n",
    "    def __init__(self,name ,age):\n",
    "        self.name =name\n",
    "        self.age = age\n",
    "\n",
    "obj_st = student(name=\"ritik\",age=22)\n",
    "\n",
    "print(obj_st.name)\n",
    "print(obj_st.age)"
   ]
  },
  {
   "cell_type": "code",
   "execution_count": 64,
   "id": "2e317c08",
   "metadata": {},
   "outputs": [
    {
     "data": {
      "text/plain": [
       "22"
      ]
     },
     "execution_count": 64,
     "metadata": {},
     "output_type": "execute_result"
    }
   ],
   "source": [
    "obj_st.age"
   ]
  },
  {
   "cell_type": "code",
   "execution_count": 74,
   "id": "275a5edd",
   "metadata": {},
   "outputs": [],
   "source": [
    "class student:\n",
    "    def __init__(self,name,age,address):\n",
    "        self.name = name\n",
    "        self.age = age \n",
    "        self.address = address\n",
    "    \n",
    "    def display(self):\n",
    "        print(f\"my name is {self.name}, and my age is {self.age}and my address is {self.address}\")\n",
    "\n",
    "\n",
    "\n",
    "obj_st=student(name=\"ritik\",age=22,address=\"neemrana\")"
   ]
  },
  {
   "cell_type": "code",
   "execution_count": 6,
   "id": "b6b10a7e",
   "metadata": {},
   "outputs": [],
   "source": [
    "# class bank\n",
    "#costructor\n",
    "#init\n",
    "#account number private"
   ]
  },
  {
   "cell_type": "code",
   "execution_count": 5,
   "id": "969760b7",
   "metadata": {},
   "outputs": [
    {
     "data": {
      "text/plain": [
       "1300"
      ]
     },
     "execution_count": 5,
     "metadata": {},
     "output_type": "execute_result"
    }
   ],
   "source": [
    "class bank:\n",
    "    def __init__(self, name , age ,amount, account_number, phone_number, address):\n",
    "        self.name =name \n",
    "        self.age =age\n",
    "        self.amount = amount \n",
    "\n",
    "        self.__account_number = account_number\n",
    "        self.phone_number = phone_number\n",
    "    def deposite(self,amount):\n",
    "        self.amount = self.amount+amount\n",
    "        return self.amount\n",
    "    \n",
    "    def withdraw(self,amount):\n",
    "        self.amount = self.amount-amount\n",
    "        return \"success withdraw thanks for using our service\"\n",
    "    \n",
    "    def total_balance(self):\n",
    "        return self.amount\n",
    "    def info(self):\n",
    "        print(\"your name\",self.name)\n",
    "\n",
    "bn_obj =bank(name=\"ritik\",amount= 1000,age=22,account_number=\"67327\",phone_number=\"2357554\",address=\"neemrana\")\n",
    "bn_obj.deposite(300)"
   ]
  },
  {
   "cell_type": "code",
   "execution_count": 6,
   "id": "b7a60301",
   "metadata": {},
   "outputs": [
    {
     "data": {
      "text/plain": [
       "1300"
      ]
     },
     "execution_count": 6,
     "metadata": {},
     "output_type": "execute_result"
    }
   ],
   "source": [
    "bn_obj.amount"
   ]
  },
  {
   "cell_type": "code",
   "execution_count": null,
   "id": "d14d5abb",
   "metadata": {},
   "outputs": [],
   "source": [
    "bn_obj.__account_number"
   ]
  },
  {
   "cell_type": "code",
   "execution_count": 2,
   "id": "f5ff3fa1",
   "metadata": {},
   "outputs": [
    {
     "name": "stdout",
     "output_type": "stream",
     "text": [
      "Name: Piyush\n",
      "Age: 22\n",
      "Employee ID: 234\n",
      "Salary: ₹4500\n"
     ]
    }
   ],
   "source": [
    "class Person:\n",
    "    def __init__(self,name,age):\n",
    "        self.name = name\n",
    "        self.age = age\n",
    "\n",
    "    def show_info(self):\n",
    "        print(f\"Name: {self.name}\")\n",
    "        print(f\"Age: {self.age}\")\n",
    "\n",
    "\n",
    "class Employee(Person):\n",
    "    def __init__(self, name, age, emp_id, salary):\n",
    "        super().__init__(name, age)      \n",
    "        self.emp_id = emp_id\n",
    "        self.salary = salary\n",
    "\n",
    "    def show_info(self):\n",
    "        super().show_info()              \n",
    "        print(f\"Employee ID: {self.emp_id}\")\n",
    "        print(f\"Salary: ₹{self.salary}\")\n",
    "\n",
    "e1 = Employee(\"Piyush\", 22, \"234\", 4500)\n",
    "e1.show_info()"
   ]
  },
  {
   "cell_type": "code",
   "execution_count": 2,
   "id": "1ef5e0ab",
   "metadata": {},
   "outputs": [
    {
     "name": "stdout",
     "output_type": "stream",
     "text": [
      "Your BMI is: 20.37\n",
      "You have Normal weight.\n"
     ]
    }
   ],
   "source": [
    "class BMICalculator:\n",
    "    def __init__(self, weight, height):\n",
    "        self.weight = weight      # in kilograms\n",
    "        self.height = height      # in meters\n",
    "\n",
    "    def calculate_bmi(self):\n",
    "        bmi = self.weight / (self.height ** 2)\n",
    "        return bmi\n",
    "\n",
    "    def interpret_bmi(self):\n",
    "        bmi = self.calculate_bmi()\n",
    "        print(f\"Your BMI is: {bmi:.2f}\")\n",
    "\n",
    "        if bmi < 18.5:\n",
    "            print(\"You are Underweight.\")\n",
    "        elif bmi < 25:\n",
    "            print(\"You have Normal weight.\")\n",
    "        elif bmi < 30:\n",
    "            print(\"You are Overweight.\")\n",
    "        else:\n",
    "            print(\"You are Obese.\")\n",
    "\n",
    "\n",
    "#  Input from user\n",
    "weight = float(input(\"Enter your weight in kg: \"))\n",
    "height = float(input(\"Enter your height in meters: \"))\n",
    "\n",
    "# 🔍 Create object of class\n",
    "b1 = BMICalculator(weight, height)\n",
    "\n",
    "#  Perform calculation and print\n",
    "b1.interpret_bmi()"
   ]
  },
  {
   "cell_type": "code",
   "execution_count": null,
   "id": "7a309c0a",
   "metadata": {},
   "outputs": [],
   "source": []
  }
 ],
 "metadata": {
  "kernelspec": {
   "display_name": "Python 3",
   "language": "python",
   "name": "python3"
  },
  "language_info": {
   "codemirror_mode": {
    "name": "ipython",
    "version": 3
   },
   "file_extension": ".py",
   "mimetype": "text/x-python",
   "name": "python",
   "nbconvert_exporter": "python",
   "pygments_lexer": "ipython3",
   "version": "3.11.5"
  }
 },
 "nbformat": 4,
 "nbformat_minor": 5
}
