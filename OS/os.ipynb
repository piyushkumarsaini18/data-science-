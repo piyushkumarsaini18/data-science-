{
 "cells": [
  {
   "cell_type": "markdown",
   "id": "0f258442",
   "metadata": {},
   "source": [
    "### OS 9jul"
   ]
  },
  {
   "cell_type": "code",
   "execution_count": 87,
   "id": "5eaf8842",
   "metadata": {},
   "outputs": [],
   "source": [
    "import os"
   ]
  },
  {
   "cell_type": "code",
   "execution_count": 88,
   "id": "39ec7350",
   "metadata": {},
   "outputs": [
    {
     "name": "stdout",
     "output_type": "stream",
     "text": [
      "C:\\Users\\DELL\\Desktop\\Data science\\data-science-\\Python\n"
     ]
    }
   ],
   "source": [
    "file = os.getcwd()         #### get current working directory\n",
    "print(file)"
   ]
  },
  {
   "cell_type": "code",
   "execution_count": 89,
   "id": "2dbaf2f0",
   "metadata": {},
   "outputs": [
    {
     "name": "stdout",
     "output_type": "stream",
     "text": [
      "total files in the directory ['data-science-']\n"
     ]
    }
   ],
   "source": [
    "file=os.listdir(r\"C:\\Users\\DELL\\Desktop\\Data science\") ## list all the path in the directory\n",
    "print(\"total files in the directory\",file)\n"
   ]
  },
  {
   "cell_type": "code",
   "execution_count": 90,
   "id": "5f400c42",
   "metadata": {},
   "outputs": [
    {
     "data": {
      "text/plain": [
       "['conditional.ipynb',\n",
       " 'demo,txt',\n",
       " 'exeception.ipynb',\n",
       " 'file_handling.ipynb',\n",
       " 'function.ipynb',\n",
       " 'hello.py',\n",
       " 'looping.ipynb',\n",
       " 'oops.ipynb',\n",
       " 'upflair.txt']"
      ]
     },
     "execution_count": 90,
     "metadata": {},
     "output_type": "execute_result"
    }
   ],
   "source": [
    "path = r\"C:\\Users\\DELL\\Desktop\\Data science\\data-science-\\Python\"\n",
    "os.listdir(path)\n"
   ]
  },
  {
   "cell_type": "code",
   "execution_count": 91,
   "id": "99f7c91c",
   "metadata": {},
   "outputs": [
    {
     "name": "stdout",
     "output_type": "stream",
     "text": [
      "folder created successfully:\n"
     ]
    }
   ],
   "source": [
    "os.mkdir(\"text\")   #### it will create a folder named text\n",
    "print(\"folder created successfully:\")"
   ]
  },
  {
   "cell_type": "code",
   "execution_count": 92,
   "id": "e26f19e4",
   "metadata": {},
   "outputs": [
    {
     "data": {
      "text/plain": [
       "['conditional.ipynb',\n",
       " 'demo,txt',\n",
       " 'exeception.ipynb',\n",
       " 'file_handling.ipynb',\n",
       " 'function.ipynb',\n",
       " 'hello.py',\n",
       " 'looping.ipynb',\n",
       " 'oops.ipynb',\n",
       " 'text',\n",
       " 'upflair.txt']"
      ]
     },
     "execution_count": 92,
     "metadata": {},
     "output_type": "execute_result"
    }
   ],
   "source": [
    "os.listdir(os.getcwd())\n"
   ]
  },
  {
   "cell_type": "code",
   "execution_count": 93,
   "id": "1d80c33f",
   "metadata": {},
   "outputs": [
    {
     "name": "stdout",
     "output_type": "stream",
     "text": [
      "folder rename successfully\n"
     ]
    }
   ],
   "source": [
    "os.rename(\"text\",\"Data science\")\n",
    "print(\"folder rename successfully\")"
   ]
  },
  {
   "cell_type": "code",
   "execution_count": 94,
   "id": "296f89e1",
   "metadata": {},
   "outputs": [
    {
     "data": {
      "text/plain": [
       "['conditional.ipynb',\n",
       " 'Data science',\n",
       " 'demo,txt',\n",
       " 'exeception.ipynb',\n",
       " 'file_handling.ipynb',\n",
       " 'function.ipynb',\n",
       " 'hello.py',\n",
       " 'looping.ipynb',\n",
       " 'oops.ipynb',\n",
       " 'upflair.txt']"
      ]
     },
     "execution_count": 94,
     "metadata": {},
     "output_type": "execute_result"
    }
   ],
   "source": [
    "os.listdir(os.getcwd())"
   ]
  },
  {
   "cell_type": "code",
   "execution_count": 95,
   "id": "13ae9bd4",
   "metadata": {},
   "outputs": [
    {
     "name": "stdout",
     "output_type": "stream",
     "text": [
      "folder remove successfully\n"
     ]
    }
   ],
   "source": [
    "os.rmdir(\"Data science\")\n",
    "print(\"folder remove successfully\")"
   ]
  },
  {
   "cell_type": "code",
   "execution_count": 96,
   "id": "e1bc4adf",
   "metadata": {},
   "outputs": [
    {
     "data": {
      "text/plain": [
       "['conditional.ipynb',\n",
       " 'demo,txt',\n",
       " 'exeception.ipynb',\n",
       " 'file_handling.ipynb',\n",
       " 'function.ipynb',\n",
       " 'hello.py',\n",
       " 'looping.ipynb',\n",
       " 'oops.ipynb',\n",
       " 'upflair.txt']"
      ]
     },
     "execution_count": 96,
     "metadata": {},
     "output_type": "execute_result"
    }
   ],
   "source": [
    "os.listdir(os.getcwd())"
   ]
  },
  {
   "cell_type": "code",
   "execution_count": 97,
   "id": "c915d7ad",
   "metadata": {},
   "outputs": [
    {
     "data": {
      "text/plain": [
       "'C:\\\\Users\\\\DELL\\\\Desktop\\\\Data science\\\\data-science-\\\\Python'"
      ]
     },
     "execution_count": 97,
     "metadata": {},
     "output_type": "execute_result"
    }
   ],
   "source": [
    "os.getcwd()"
   ]
  },
  {
   "cell_type": "code",
   "execution_count": 98,
   "id": "11129d3f",
   "metadata": {},
   "outputs": [
    {
     "name": "stdout",
     "output_type": "stream",
     "text": [
      "path exist:- None\n"
     ]
    }
   ],
   "source": [
    "path = r\"C:\\Users\\DELL\\Desktop\\Data science\\data-science-\\OS\"\n",
    "path = os.environ.get(path)\n",
    "print(\"path exist:-\",path)"
   ]
  },
  {
   "cell_type": "code",
   "execution_count": 99,
   "id": "6890a224",
   "metadata": {},
   "outputs": [],
   "source": [
    "#os.system command(path) ### system command"
   ]
  },
  {
   "cell_type": "code",
   "execution_count": 100,
   "id": "24f319e8",
   "metadata": {},
   "outputs": [
    {
     "data": {
      "text/plain": [
       "True"
      ]
     },
     "execution_count": 100,
     "metadata": {},
     "output_type": "execute_result"
    }
   ],
   "source": [
    "path = r\"C:\\Users\\DELL\\Desktop\\Data science\\data-science-\\Python\\conditional.ipynb\"\n",
    "os.path.isfile(path)"
   ]
  },
  {
   "cell_type": "code",
   "execution_count": 101,
   "id": "dc72da04",
   "metadata": {},
   "outputs": [
    {
     "data": {
      "text/plain": [
       "False"
      ]
     },
     "execution_count": 101,
     "metadata": {},
     "output_type": "execute_result"
    }
   ],
   "source": [
    "path = r\"C:\\Users\\DELL\\Desktop\\Data science\\data-science-\\Python\\conditional.ipynb\"\n",
    "os.path.isdir(path)"
   ]
  },
  {
   "cell_type": "code",
   "execution_count": 102,
   "id": "74fc9b8c",
   "metadata": {},
   "outputs": [
    {
     "name": "stdout",
     "output_type": "stream",
     "text": [
      "C:\\Users\\DELL\\Desktop\\Data science\\data-science-\\Python\n"
     ]
    },
    {
     "data": {
      "text/plain": [
       "['conditional.ipynb',\n",
       " 'demo,txt',\n",
       " 'exeception.ipynb',\n",
       " 'file_handling.ipynb',\n",
       " 'function.ipynb',\n",
       " 'hello.py',\n",
       " 'looping.ipynb',\n",
       " 'oops.ipynb',\n",
       " 'upflair.txt']"
      ]
     },
     "execution_count": 102,
     "metadata": {},
     "output_type": "execute_result"
    }
   ],
   "source": [
    "path1 = r\"C:\\Users\\DELL\\Desktop\"\n",
    "path2 = r\"Data science\\data-science-\\Python\"\n",
    "complete_path = os.path.join(path1,path2)\n",
    "print(complete_path)\n",
    "os.listdir(complete_path)"
   ]
  },
  {
   "cell_type": "code",
   "execution_count": 103,
   "id": "670fcac1",
   "metadata": {},
   "outputs": [
    {
     "name": "stdout",
     "output_type": "stream",
     "text": [
      "C:\\Users\\DELL\\Desktop\\Data science\\data-science-\\Python\n"
     ]
    },
    {
     "data": {
      "text/plain": [
       "['conditional.ipynb',\n",
       " 'demo,txt',\n",
       " 'exeception.ipynb',\n",
       " 'file_handling.ipynb',\n",
       " 'function.ipynb',\n",
       " 'hello.py',\n",
       " 'looping.ipynb',\n",
       " 'oops.ipynb',\n",
       " 'upflair.txt']"
      ]
     },
     "execution_count": 103,
     "metadata": {},
     "output_type": "execute_result"
    }
   ],
   "source": [
    "path1 = r\"C:\\Users\\DELL\\Desktop\"\n",
    "path2 = r\"Data science\\data-science-\\Python\"\n",
    "complete_path = os.path.join(path1,path2)\n",
    "print(complete_path)\n",
    "os.listdir(complete_path)"
   ]
  },
  {
   "cell_type": "code",
   "execution_count": 104,
   "id": "a943e704",
   "metadata": {},
   "outputs": [
    {
     "name": "stdout",
     "output_type": "stream",
     "text": [
      "size of the file in bites:- 5553\n"
     ]
    }
   ],
   "source": [
    "path = r\"C:\\Users\\DELL\\Desktop\\Data science\\data-science-\\Python\\conditional.ipynb\"\n",
    "size = os.path.getsize(path)\n",
    "print(\"size of the file in bites:-\",size)"
   ]
  },
  {
   "cell_type": "code",
   "execution_count": 105,
   "id": "dfbbd252",
   "metadata": {},
   "outputs": [
    {
     "name": "stdout",
     "output_type": "stream",
     "text": [
      "before dir C:\\Users\\DELL\\Desktop\\Data science\\data-science-\\Python\n",
      "after dir C:\\Users\\DELL\\Desktop\\Data science\\data-science-\\Python\n"
     ]
    }
   ],
   "source": [
    "print(\"before dir\",os.getcwd())\n",
    "os.chdir(r\"C:\\Users\\DELL\\Desktop\\Data science\\data-science-\\Python\")\n",
    "print(\"after dir\",os.getcwd())\n"
   ]
  },
  {
   "cell_type": "code",
   "execution_count": null,
   "id": "82814822",
   "metadata": {},
   "outputs": [],
   "source": []
  }
 ],
 "metadata": {
  "kernelspec": {
   "display_name": "Python 3",
   "language": "python",
   "name": "python3"
  },
  "language_info": {
   "codemirror_mode": {
    "name": "ipython",
    "version": 3
   },
   "file_extension": ".py",
   "mimetype": "text/x-python",
   "name": "python",
   "nbconvert_exporter": "python",
   "pygments_lexer": "ipython3",
   "version": "3.11.5"
  }
 },
 "nbformat": 4,
 "nbformat_minor": 5
}
