{
 "cells": [
  {
   "cell_type": "markdown",
   "id": "ff9f9bd7",
   "metadata": {},
   "source": [
    "### OS\n"
   ]
  },
  {
   "cell_type": "code",
   "execution_count": 20,
   "id": "4fd5cab7",
   "metadata": {},
   "outputs": [],
   "source": [
    "import os"
   ]
  },
  {
   "cell_type": "code",
   "execution_count": 21,
   "id": "ff48d30a",
   "metadata": {},
   "outputs": [
    {
     "name": "stdout",
     "output_type": "stream",
     "text": [
      "c:\\Users\\DELL\\Desktop\\Data science\\OS\n"
     ]
    }
   ],
   "source": [
    "file =os.getcwd()   ## get current working directory\n",
    "print(file)"
   ]
  },
  {
   "cell_type": "code",
   "execution_count": 22,
   "id": "c0b6ea76",
   "metadata": {},
   "outputs": [
    {
     "name": "stdout",
     "output_type": "stream",
     "text": [
      "total file in this directory:- c:\\Users\\DELL\\Desktop\\Data science\\OS\n"
     ]
    }
   ],
   "source": [
    "os.listdir(r\"c:\\Users\\DELL\\Desktop\\Data science\\OS\")\n",
    "### list all the file in the directory\n",
    "print(\"total file in this directory:-\",file)"
   ]
  },
  {
   "cell_type": "code",
   "execution_count": 23,
   "id": "fe6d4210",
   "metadata": {},
   "outputs": [
    {
     "name": "stdout",
     "output_type": "stream",
     "text": [
      "total file in this directory:- c:\\Users\\DELL\\Desktop\\Data science\\OS\n"
     ]
    }
   ],
   "source": [
    "os.listdir(r\"C:\\Users\\DELL\\Desktop\\Data science\\Python\")\n",
    "print(\"total file in this directory:-\",file)"
   ]
  },
  {
   "cell_type": "code",
   "execution_count": 24,
   "id": "2990bdcd",
   "metadata": {},
   "outputs": [
    {
     "data": {
      "text/plain": [
       "['conditional.ipynb',\n",
       " 'demo,txt',\n",
       " 'exeception.ipynb',\n",
       " 'file_handling.ipynb',\n",
       " 'function.ipynb',\n",
       " 'hello.py',\n",
       " 'looping.ipynb',\n",
       " 'oops.ipynb',\n",
       " 'upflair.txt']"
      ]
     },
     "execution_count": 24,
     "metadata": {},
     "output_type": "execute_result"
    }
   ],
   "source": [
    "path =r\"C:\\Users\\DELL\\Desktop\\Data science\\Python\"\n",
    "os.listdir(path)"
   ]
  },
  {
   "cell_type": "code",
   "execution_count": 25,
   "id": "7c4ae987",
   "metadata": {},
   "outputs": [
    {
     "name": "stdout",
     "output_type": "stream",
     "text": [
      "folder created succesfully\n"
     ]
    }
   ],
   "source": [
    "os.mkdir(\"test\")\n",
    "print(\"folder created succesfully\")"
   ]
  },
  {
   "cell_type": "code",
   "execution_count": 26,
   "id": "efc518e1",
   "metadata": {},
   "outputs": [
    {
     "data": {
      "text/plain": [
       "['os.ipynb', 'test']"
      ]
     },
     "execution_count": 26,
     "metadata": {},
     "output_type": "execute_result"
    }
   ],
   "source": [
    "os.listdir(os.getcwd())"
   ]
  },
  {
   "cell_type": "code",
   "execution_count": 27,
   "id": "e59cd6f2",
   "metadata": {},
   "outputs": [
    {
     "name": "stdout",
     "output_type": "stream",
     "text": [
      "folder rename succesfully\n"
     ]
    }
   ],
   "source": [
    "os.rename(\"test\",\"data science\")\n",
    "print(\"folder rename succesfully\")\n"
   ]
  },
  {
   "cell_type": "code",
   "execution_count": 28,
   "id": "93d6b0aa",
   "metadata": {},
   "outputs": [
    {
     "data": {
      "text/plain": [
       "['data science', 'os.ipynb']"
      ]
     },
     "execution_count": 28,
     "metadata": {},
     "output_type": "execute_result"
    }
   ],
   "source": [
    "os.listdir(os.getcwd())"
   ]
  },
  {
   "cell_type": "code",
   "execution_count": 29,
   "id": "b2ea4851",
   "metadata": {},
   "outputs": [
    {
     "name": "stdout",
     "output_type": "stream",
     "text": [
      "folder deleted succesfully\n"
     ]
    }
   ],
   "source": [
    "os.rmdir(\"data science\")\n",
    "print(\"folder deleted succesfully\")"
   ]
  },
  {
   "cell_type": "code",
   "execution_count": 30,
   "id": "6338a98f",
   "metadata": {},
   "outputs": [
    {
     "data": {
      "text/plain": [
       "['os.ipynb']"
      ]
     },
     "execution_count": 30,
     "metadata": {},
     "output_type": "execute_result"
    }
   ],
   "source": [
    "os.listdir(os.getcwd())"
   ]
  },
  {
   "cell_type": "code",
   "execution_count": 31,
   "id": "87f5a35b",
   "metadata": {},
   "outputs": [],
   "source": [
    "## os."
   ]
  },
  {
   "cell_type": "code",
   "execution_count": 32,
   "id": "3aad8752",
   "metadata": {},
   "outputs": [
    {
     "data": {
      "text/plain": [
       "b'c:\\\\Users\\\\DELL\\\\Desktop\\\\Data science\\\\OS'"
      ]
     },
     "execution_count": 32,
     "metadata": {},
     "output_type": "execute_result"
    }
   ],
   "source": [
    "os.getcwdb()"
   ]
  },
  {
   "cell_type": "code",
   "execution_count": 33,
   "id": "2830aaa5",
   "metadata": {},
   "outputs": [
    {
     "name": "stdout",
     "output_type": "stream",
     "text": [
      "path exist None\n"
     ]
    }
   ],
   "source": [
    "path=r\"C:\\Users\\DELL\\Desktop\\Data science\\Python\"\n",
    "path =os.environ.get(path)\n",
    "print(\"path exist\",path)"
   ]
  },
  {
   "cell_type": "code",
   "execution_count": 34,
   "id": "1334343d",
   "metadata": {},
   "outputs": [],
   "source": [
    "## os.system(path) ### system command"
   ]
  },
  {
   "cell_type": "code",
   "execution_count": 35,
   "id": "6e203b9c",
   "metadata": {},
   "outputs": [
    {
     "data": {
      "text/plain": [
       "False"
      ]
     },
     "execution_count": 35,
     "metadata": {},
     "output_type": "execute_result"
    }
   ],
   "source": [
    "path = r\"C:\\Users\\DELL\\Desktop\\Data science\\Python\"\n",
    "os.path.isfile(path)"
   ]
  },
  {
   "cell_type": "code",
   "execution_count": 36,
   "id": "a10f30e6",
   "metadata": {},
   "outputs": [
    {
     "name": "stdout",
     "output_type": "stream",
     "text": [
      "C:\\Users\\DELL\\Desktop\\Data science\\Python\n"
     ]
    },
    {
     "data": {
      "text/plain": [
       "['conditional.ipynb',\n",
       " 'demo,txt',\n",
       " 'exeception.ipynb',\n",
       " 'file_handling.ipynb',\n",
       " 'function.ipynb',\n",
       " 'hello.py',\n",
       " 'looping.ipynb',\n",
       " 'oops.ipynb',\n",
       " 'upflair.txt']"
      ]
     },
     "execution_count": 36,
     "metadata": {},
     "output_type": "execute_result"
    }
   ],
   "source": [
    "path1 = r\"C:\\Users\\DELL\"\n",
    "path2 =r\"Desktop\\Data science\\Python\"\n",
    "compete_path = os.path.join(path1, path2)\n",
    "print(compete_path)\n",
    "os.listdir(compete_path)"
   ]
  },
  {
   "cell_type": "code",
   "execution_count": 37,
   "id": "368922c0",
   "metadata": {},
   "outputs": [
    {
     "name": "stdout",
     "output_type": "stream",
     "text": [
      "size of the file (in bytes):- 4096\n"
     ]
    }
   ],
   "source": [
    "path = r\"C:\\Users\\DELL\\Desktop\\Data science\\Python\"\n",
    "size = os.path.getsize(path)\n",
    "print(\"size of the file (in bytes):-\",size)"
   ]
  },
  {
   "cell_type": "code",
   "execution_count": 38,
   "id": "90f6bae6",
   "metadata": {},
   "outputs": [
    {
     "name": "stdout",
     "output_type": "stream",
     "text": [
      "before dir c:\\Users\\DELL\\Desktop\\Data science\\OS\n",
      "after dir C:\\Users\\DELL\\Desktop\\Data science\\Python\n"
     ]
    }
   ],
   "source": [
    "print(\"before dir\",os.getcwd())\n",
    "os.chdir(r\"C:\\Users\\DELL\\Desktop\\Data science\\Python\")\n",
    "print(\"after dir\",os.getcwd())"
   ]
  },
  {
   "cell_type": "code",
   "execution_count": null,
   "id": "587df095",
   "metadata": {},
   "outputs": [],
   "source": []
  }
 ],
 "metadata": {
  "kernelspec": {
   "display_name": "Python 3",
   "language": "python",
   "name": "python3"
  },
  "language_info": {
   "codemirror_mode": {
    "name": "ipython",
    "version": 3
   },
   "file_extension": ".py",
   "mimetype": "text/x-python",
   "name": "python",
   "nbconvert_exporter": "python",
   "pygments_lexer": "ipython3",
   "version": "3.11.5"
  }
 },
 "nbformat": 4,
 "nbformat_minor": 5
}
